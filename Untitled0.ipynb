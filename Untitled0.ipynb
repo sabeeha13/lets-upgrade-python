{
  "nbformat": 4,
  "nbformat_minor": 0,
  "metadata": {
    "colab": {
      "provenance": []
    },
    "kernelspec": {
      "name": "python3",
      "display_name": "Python 3"
    },
    "language_info": {
      "name": "python"
    }
  },
  "cells": [
    {
      "cell_type": "code",
      "execution_count": 5,
      "metadata": {
        "colab": {
          "base_uri": "https://localhost:8080/"
        },
        "id": "Ia8AXxPJnRnK",
        "outputId": "92c1ef5b-839f-489c-9c9d-cfcacc01bbc4"
      },
      "outputs": [
        {
          "output_type": "stream",
          "name": "stdout",
          "text": [
            "n is an odd number\n"
          ]
        }
      ],
      "source": [
        "n = 5\n",
        "if n%2 == 0 :\n",
        "  print (\"n is an even number\")\n",
        "else :\n",
        "  print (\"n is an odd number\")"
      ]
    }
  ]
}